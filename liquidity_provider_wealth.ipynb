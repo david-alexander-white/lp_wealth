{
 "cells": [
  {
   "cell_type": "markdown",
   "metadata": {
    "id": "aJo88ocaJqys"
   },
   "source": [
    "# Overview\n",
    "This notebook is my attempt to make sense of https://charlienoyes.xyz/LP_Wealth.pdf "
   ]
  },
  {
   "cell_type": "markdown",
   "metadata": {
    "id": "QzlXZonF4c3P"
   },
   "source": [
    "# 1.1 Market Definition\n",
    "\n",
    "## Statement\n",
    "Equation (1.1) refers to the situation where $R_\\alpha$ is being decreased by $\\Delta_\\alpha$ -- in other words, specifies what happens when an active trader buys $\\alpha$ with $\\beta$, thereby depleting the $\\alpha$ reserve.\n",
    "\n",
    "$R_\\alpha - \\Delta_\\alpha = R_\\alpha(\\frac{R_\\beta}{R_\\beta + \\Delta_\\beta})^\\gamma$\n",
    "\n",
    "## Relationship to constant product\n",
    "\n",
    "Rearranging, we obtain the equivalent to the constant product formula,\n",
    "\n",
    "$(R_\\alpha - \\Delta_\\alpha)(R_\\beta + \\Delta_\\beta)^\\gamma = R_\\alpha R_\\beta^\\gamma$\n",
    "\n",
    "Rearranging again, we obtain\n",
    "\n",
    "$\\frac{R_\\alpha - \\Delta_\\alpha}{R_\\alpha} = (\\frac{R_\\beta}{R_\\beta + \\Delta_\\beta})(\\frac{R_\\beta}{R_\\beta + \\Delta_\\beta})^{\\gamma - 1} = (\\frac{R_\\beta}{R_\\beta + \\Delta_\\beta})(\\frac{R_\\beta + \\Delta_\\beta}{R_\\beta})^{1 - \\gamma}$\n",
    "\n",
    "For $\\gamma = 1$, the constant product case, this says the percentage decrease in reserves of $\\alpha$ is the reciprocal of the percentage increase in the reserves of $\\beta$.\n",
    "\n",
    "For $\\gamma < 1$, the normal case, the final reserves of $\\alpha$ are going to be greater than they would in the constant product case by a factor of $(\\frac{R_\\beta + \\Delta_\\beta}{R_\\beta})^{1 - \\gamma}$. For $\\gamma \\approx 1$, this is roughly $(1 - \\gamma)$ times the increase in the reserves of $\\beta$.\n",
    "\n",
    "In other words, this setup is like a constant product market maker, except that the active trader pays an extra $(1-\\gamma)$ of coin $\\beta$ to obtain coin $\\alpha$.\n",
    "\n",
    "\n",
    "\n",
    "\n",
    "\n",
    "\n",
    "\n"
   ]
  },
  {
   "cell_type": "markdown",
   "metadata": {
    "id": "hdUhzusc5gJB"
   },
   "source": [
    "# 1.2 Path-independence of Trades\n",
    "\n",
    "## Trades in the same direction\n",
    "\n",
    "Let's say an active trader uses $\\beta$ to buy $\\alpha$ twice in a row, first for amount $\\Delta_\\beta^1$, then $\\Delta_\\beta^2$, with $\\Delta_\\beta^1 + \\Delta_\\beta^2 = \\Delta_\\beta^c$.\n",
    "\n",
    "After the first trade, we have new reserves of $\\alpha$, which we'll call $R_\\alpha'$\n",
    "\n",
    "$R_\\alpha' = R_\\alpha - \\Delta_\\alpha^1 = R_\\alpha(\\frac{R_\\beta}{R_\\beta + \\Delta_\\beta^1})^\\gamma$\n",
    "\n",
    "After the second trade, we have\n",
    "\n",
    "$R_\\alpha'' = R_\\alpha' - \\Delta_\\alpha^2 = R_\\alpha'(\\frac{R_\\beta'}{R_\\beta' + \\Delta_\\beta^2})^\\gamma = R_\\alpha(\\frac{R_\\beta}{R_\\beta + \\Delta_\\beta^1})^\\gamma(\\frac{R_\\beta + \\Delta_\\beta^1}{R_\\beta + \\Delta_\\beta^1 + \\Delta_\\beta^2})^\\gamma  = R_\\alpha(\\frac{R_\\beta}{R_\\beta^c})^\\gamma$\n",
    "\n",
    "In other words, the new reserves of $\\alpha$ depend only on the sum of $\\Delta_\\beta^1$ and $\\Delta_\\beta^2$, and are the same as if $\\Delta_\\beta^c$ had been traded all at once.\n",
    "\n",
    "## Trades in opposite directions\n",
    "\n",
    "Trades in opposite directions are trivially not path independent for $\\gamma < 1$, in the sense that if an active trader first buys $\\Delta_\\alpha^1$ with $\\Delta_\\beta^1$ and then buys $\\Delta_\\beta^2$ with $\\Delta_\\alpha^2$, it is not the same as buying $\\Delta_\\beta^2 - \\Delta_\\beta^1$ with $\\Delta_\\alpha^2 - \\Delta_\\alpha^1$\n",
    "\n",
    "To see why, assume we have a 100% fee at $\\gamma = 0$.\n",
    "\n",
    "If a trader first buys 0 $\\alpha$ with 1 $\\beta$, then 0 $\\beta$ with 1 $\\alpha$, it is certainly not the same as buying 1 $\\alpha$ with 1 $\\beta$, which isn't even possible in this scenario."
   ]
  },
  {
   "cell_type": "markdown",
   "metadata": {
    "id": "20ZPxXwZH6G5"
   },
   "source": [
    "# 1.3 Optimal arbitrage\n",
    "\n",
    "## optimization problem\n",
    "Here, we start to treat $\\beta$ as riskless, while $\\alpha$ is risky. For mental convenience, we can think of $\\beta$ as USDC and $\\alpha$ as ETH.\n",
    "\n",
    "We define $m_p$ to be the reference market price of $\\alpha$ with respect to $\\beta$, i.e. 1 ETH trades for $m_p$ USDC.\n",
    "\n",
    "In this case, an arbitraguer considering buying ETH on Uniswap and selling it on the (assumed infinitely liquid) reference market wants to maximize \n",
    "\n",
    "$m_p\\Delta_\\alpha - \\Delta_\\beta = m_p (R_\\alpha - R_\\alpha(\\frac{R_\\beta}{R_\\beta + \\Delta_\\beta})^\\gamma) - \\Delta_\\beta$ subject to $\\Delta_\\alpha \\geq 0, \\Delta_\\beta \\geq 0$\n",
    "\n",
    "## optimization solution\n",
    "\n",
    "Taking the derivative with respect to $\\Delta_\\beta$ and setting to 0, we obtain\n",
    "\n",
    "$ \\frac{\\gamma m_p R_\\alpha R_\\beta (\\frac{R_\\beta}{R_\\beta + \\Delta_\\beta})^{-1 + \\gamma}}{(R_\\beta + \\Delta_\\beta)^2} = 1$\n",
    "\n",
    "Which we can rearrange to\n",
    "\n",
    "$\\gamma m_p R_\\alpha R_\\beta^\\gamma = (R_\\beta + \\Delta_\\beta)^{1 + \\gamma}$\n",
    "\n",
    "and raising both sides to the $\\frac{1}{1 + \\gamma}$ we obtain\n",
    "\n",
    "$\\Delta_\\beta = (\\gamma m_p R_\\alpha R_\\beta^\\gamma) ^ \\frac{1}{1+\\gamma} - R_\\beta = R_\\beta((\\frac{m_p \\gamma R_\\alpha}{R_\\beta})^\\frac{1}{1+\\gamma} - 1 ) )$\n",
    "\n",
    "Plugging this in to the formula for $\\Delta_\\alpha$ and doing quite a lot of simplifying, we end up with\n",
    "\n",
    "$\\Delta_\\alpha = R_\\alpha(1 - (\\frac{\\gamma m_p R_\\alpha}{R_\\beta})^{\\frac{1}{1 + \\gamma} -1})$\n",
    "\n",
    "As pointed out in the paper, these are the unconstrained solutions, which can in this case be transformed to the constrained solutions simply by flooring them, so that we finally have\n",
    "\n",
    "$\\Delta^*_\\alpha = (R_\\alpha(1 - (\\frac{\\gamma m_p R_\\alpha}{R_\\beta})^{\\frac{1}{1 + \\gamma} -1}))_+$\n",
    "\n",
    "$\\Delta^*_\\beta = (R_\\beta((\\frac{m_p \\gamma R_\\alpha}{R_\\beta})^\\frac{1}{1+\\gamma} - 1 ) ))_+$\n",
    "\n",
    "## no-arbitrage bounds\n",
    "\n",
    "Let $m_u = \\frac{R_\\beta}{R_\\alpha}$ be how much $\\beta$ you need to buy one $\\alpha$ on our AMM without fees. (Note in the paper $m_u$ is defined as $\\frac{R_\\alpha}{R_\\beta}$, but I believe that's a typo.)\n",
    "\n",
    "There is an arbitrage when $\\Delta^*_\\alpha > 0$.\n",
    "\n",
    "$ 0 < \\Delta^*_\\alpha \\iff 0 < 1 - (\\frac{\\gamma m_p R_\\alpha}{R_\\beta})^{\\frac{1}{1 + \\gamma} -1} \\iff \\frac{\\gamma m_p R_\\alpha}{R_\\beta} > 1 \\iff \\gamma m_p > \\frac{R_\\beta}{R_\\alpha} \\iff \\gamma m_p > m_u$\n",
    "\n",
    "So traders will be arbitraging against the AMM as long as $\\gamma m_p > m_u$.\n",
    "\n",
    "This makes a lot of sense -- if we have no fee at $\\gamma = 1$, and $m_p > m_u$, we're going to want to buy some $\\alpha$ for $m_u$ and sell it for $m_p$. This will have the effect of reducing $R_\\alpha$ and increasing $R_\\beta$, thereby increasing $m_u$ and eliminating the arb. With a fee of $\\gamma$, this is only profitable when we make more on the round trip than the fee is costing us.\n",
    "\n",
    "Swapping $\\beta$ for $\\alpha$ in all of the above equations, we see that there will also be an arbitrage when $\\gamma \\frac{1}{m_p} > \\frac{1}{m_u} \\iff m_p\\gamma^{-1} < m_u$\n",
    "\n",
    "Putting it all together, then, we can say there will be no arbitrage available when\n",
    "\n",
    "$\\gamma m_p \\leq m_u \\leq \\gamma^{-1}m_p$\n"
   ]
  },
  {
   "cell_type": "markdown",
   "metadata": {
    "id": "-b2cRlniOUoB"
   },
   "source": [
    "# Post-arbitrage reserve sizes\n",
    "\n",
    "## Reserve size after an arbitrage buy of $\\alpha$\n",
    "\n",
    "Let's say $m_p$ has been within the no-arbitrage bounds, so that $\\gamma m_p \\leq m_u$, but suddenly $m_p$ increases to $m_p'$ and we have $\\gamma m_p' > m_u$. Somebody will come and fully arb the trade... but what happens to our reserves $R'_\\alpha$ and $R'_\\beta$?\n",
    "\n",
    "Well, we have\n",
    "\n",
    "$R'_\\alpha = R_\\alpha - \\Delta^*_\\alpha$\n",
    "\n",
    "and\n",
    "\n",
    "$\\Delta^*_\\alpha = (R_\\alpha(1 - (\\frac{\\gamma m_p' R_\\alpha}{R_\\beta})^{\\frac{1}{1 + \\gamma} -1}))_+$\n",
    "\n",
    "so\n",
    "\n",
    "$R'_\\alpha = R_\\alpha(\\frac{\\gamma m_p' R_\\alpha}{R_\\beta})^{\\frac{1}{1 + \\gamma} -1} = R_\\alpha(\\frac{\\gamma m_p' R_\\alpha}{R_\\beta})^{-\\frac{\\gamma}{\\gamma+1}}$\n",
    "\n",
    "and since\n",
    "\n",
    "$R'_\\alpha {R'_\\beta}^\\gamma = R_\\alpha R_\\beta^\\gamma$\n",
    "\n",
    "we obtain\n",
    "\n",
    "$R'_\\beta = (\\frac{R_\\alpha}{R'_\\alpha})^{\\frac{1}{\\gamma}}R_\\beta = (\\frac{\\gamma m_p' R_\\alpha}{R_\\beta})^{\\frac{1}{\\gamma+1}}R_\\beta$\n",
    "\n",
    "## Common Terms\n",
    "\n",
    "Following the paper, we will declare\n",
    "\n",
    "$C_l = \\frac{\\gamma m_p' R_\\alpha}{R_\\beta}$\n",
    "\n",
    "and note\n",
    "\n",
    "$R'_\\alpha = R_\\alpha C_l ^ {- \\frac{\\gamma}{\\gamma+1}}$\n",
    "\n",
    "$R'_\\beta = R_\\beta C_l ^ {\\frac{1}{\\gamma+1}}$\n",
    "\n",
    "## The other bound\n",
    "\n",
    "Swapping $\\alpha$ for $\\beta$ and $\\frac{1}{m_p}$ for $m_p$ gives us\n",
    "\n",
    "$\\hat{C}_h = \\frac{\\gamma R_\\beta}{m'_p R_\\alpha}$\n",
    "\n",
    "but to stick with the paper we'll use its reciprocal\n",
    "\n",
    "$C_h = \\frac{m'_p R_\\alpha}{\\gamma R_\\beta}$\n",
    "\n",
    "to obtain, for cases when $\\frac{1}{\\gamma}{mp} < m_u$\n",
    "\n",
    "$R'_\\alpha = R_\\alpha C_h ^ {- \\frac{1}{\\gamma+1}}$\n",
    "\n",
    "$R'_\\beta = R_\\beta C_h ^ {\\frac{\\gamma}{\\gamma+1}}$\n",
    "\n",
    "## Scale invariance\n",
    "\n",
    "In case this proves useful:\n",
    "\n",
    "Let's say a kindly fairy multiplies our AMM reserves by some large number k, such that we now hold $k R_\\alpha$ BTC and $k R_\\beta$ USDC.\n",
    "\n",
    "Note\n",
    "\n",
    "$C_l = \\frac{\\gamma m_p' R_\\alpha}{R_\\beta} = \\gamma\\frac{m'_p}{m_u}$\n",
    "\n",
    "$C_h = \\frac{m'_p R_\\alpha}{\\gamma R_\\beta} = \\frac{1}{\\gamma} \\frac{m'_p}{m_u}$\n",
    "\n",
    "so that both of these quantities remain unchanged.\n",
    "\n",
    "If, for example, the price of BTC suddenly rises, so that an arbitrageur comes in to buy, we will now be holding\n",
    "\n",
    "$R'_\\alpha = k R_\\alpha C_l ^ {- \\frac{\\gamma}{\\gamma+1}}$\n",
    "\n",
    "$R'_\\beta = k R_\\beta C_l ^ {\\frac{1}{\\gamma+1}}$\n",
    "\n",
    "If the fairy then changes her mind and scales our reserves back down by k, we will be holding \n",
    "\n",
    "$R'_\\alpha = R_\\alpha C_l ^ {- \\frac{\\gamma}{\\gamma+1}}$\n",
    "\n",
    "$R'_\\beta = R_\\beta C_l ^ {\\frac{1}{\\gamma+1}}$\n",
    "\n",
    "It will be just as if the scaling had never occurred."
   ]
  },
  {
   "cell_type": "markdown",
   "metadata": {
    "id": "vFWFRlHvTE0V"
   },
   "source": [
    "# 2 No-Arbitrage Under Brownian Motion\n",
    "\n",
    "Let $S(t)$ be a Geometric Brownian motion\n",
    "\n",
    "$dS(t) = \\mu S(t) dt + \\sigma S(t) dZ(t)$\n",
    "\n",
    "where $Z$ is a standard Brownian motion.\n",
    "\n",
    "If we let $S(t)$ stand in for $m_p$ and assume no-arbitrage holds, the LP wealth process $W(t)$ can be expressed as\n",
    "\n",
    "$W(t) = R_\\alpha(t)S(t) + R_\\beta(t)$\n",
    "\n",
    "Given known $\\mu$, $\\sigma$, and $\\gamma$, we define the exponential growth rate of LP wealth $G$ as \n",
    "\n",
    "$G = \\mathop{\\mathbb{E}}[\\displaystyle{\\lim_{T\\to\\inf}}\\frac{1}{T}\\log(W(T))]$"
   ]
  },
  {
   "cell_type": "markdown",
   "metadata": {
    "id": "IWyHbDM6x3Wp"
   },
   "source": [
    "# Simulation"
   ]
  },
  {
   "cell_type": "code",
   "execution_count": 1,
   "metadata": {
    "id": "Vgrd0n-l50E-"
   },
   "outputs": [],
   "source": [
    "import torch\n",
    "import numpy as np\n",
    "import matplotlib.pyplot as plt"
   ]
  },
  {
   "cell_type": "code",
   "execution_count": 2,
   "metadata": {
    "colab": {
     "base_uri": "https://localhost:8080/",
     "height": 284
    },
    "id": "pFBKuDlPyXb7",
    "outputId": "7bfbe46a-3341-4a6a-93a6-28566f7c2f3f"
   },
   "outputs": [
    {
     "data": {
      "text/plain": [
       "[<matplotlib.lines.Line2D at 0x7effba8d4050>]"
      ]
     },
     "execution_count": 2,
     "metadata": {},
     "output_type": "execute_result"
    },
    {
     "data": {
      "image/png": "[encoded data removed]",
      "text/plain": [
       "<Figure size 432x288 with 1 Axes>"
      ]
     },
     "metadata": {
      "needs_background": "light"
     },
     "output_type": "display_data"
    }
   ],
   "source": [
    "def get_z(num_samples, num_steps, step_size):\n",
    "  w = torch.randn(num_samples, num_steps) * np.sqrt(step_size)\n",
    "  return torch.cumsum(w, 1)\n",
    "\n",
    "step_size = 0.001\n",
    "\n",
    "z = get_z(3, 1000, step_size)\n",
    "\n",
    "plt.plot(z[0])"
   ]
  },
  {
   "cell_type": "code",
   "execution_count": 224,
   "metadata": {
    "colab": {
     "base_uri": "https://localhost:8080/",
     "height": 283
    },
    "id": "UsZMBnEa2Z-r",
    "outputId": "7eb26d7e-9399-4cb5-a980-bf9890e8e145"
   },
   "outputs": [
    {
     "data": {
      "text/plain": [
       "[<matplotlib.lines.Line2D at 0x7effb90171d0>]"
      ]
     },
     "execution_count": 224,
     "metadata": {},
     "output_type": "execute_result"
    },
    {
     "data": {
      "image/png": "[encoded data removed]",
      "text/plain": [
       "<Figure size 432x288 with 1 Axes>"
      ]
     },
     "metadata": {
      "needs_background": "light"
     },
     "output_type": "display_data"
    }
   ],
   "source": [
    "def get_t(steps, step_size):\n",
    "  return (torch.arange(0, steps) + 1) * step_size\n",
    "\n",
    "\n",
    "def get_log_s(z, s_zero, mu, sigma, step_size):\n",
    "  t = get_t(z.shape[1], step_size)\n",
    "  return torch.log(s_zero) + (mu - sigma ** 2 / 2)*t + sigma * z\n",
    "\n",
    "plt.plot(get_log_s(z, torch.tensor(1.), 1/2, 1., step_size)[2])"
   ]
  },
  {
   "cell_type": "code",
   "execution_count": 225,
   "metadata": {
    "colab": {
     "base_uri": "https://localhost:8080/",
     "height": 72
    },
    "id": "kBBgVJk73TES",
    "outputId": "7475f97b-47fd-48eb-94bb-d79cad090888"
   },
   "outputs": [
    {
     "name": "stdout",
     "output_type": "stream",
     "text": [
      "tensor([1., 1.])\n",
      "tensor([0.5000, 4.0000])\n",
      "tensor([4.0000, 0.5000])\n"
     ]
    }
   ],
   "source": [
    "def get_new_reserves(reserve_tensor, gamma, s):\n",
    "  r_alpha = reserve_tensor[...,0]\n",
    "  r_beta = reserve_tensor[...,1]\n",
    "  m_u = r_beta / r_alpha\n",
    "\n",
    "  c_l = gamma * s / m_u\n",
    "  c_h = s / gamma / m_u\n",
    "\n",
    "  # AMM price too low\n",
    "  r_alpha_updated = torch.where(m_u < gamma * s, r_alpha * torch.pow(c_l, -1 * gamma / (gamma + 1)), r_alpha)\n",
    "  r_beta_updated = torch.where(m_u < gamma * s, r_beta * torch.pow(c_l, 1 / (gamma + 1)), r_beta)\n",
    "\n",
    "  # AMM price too high\n",
    "  r_alpha_updated = torch.where(m_u >  s / gamma, r_alpha * torch.pow(c_h, -1 / (gamma + 1)), r_alpha_updated)\n",
    "  r_beta_updated = torch.where(m_u > s / gamma, r_beta * torch.pow(c_h, gamma / (gamma + 1)), r_beta_updated)\n",
    "\n",
    "  return torch.stack((r_alpha_updated, r_beta_updated), dim = -1)\n",
    "\n",
    "print(get_new_reserves(torch.ones(2), 0.5, 1))\n",
    "print(get_new_reserves(torch.ones(2), 0.5, 16))\n",
    "print(get_new_reserves(torch.ones(2), 0.5, 1./16))"
   ]
  },
  {
   "cell_type": "markdown",
   "metadata": {},
   "source": [
    "We're going to make another function that keeps track of reserves in log space, because otherwise we run into all kinds of numerical issues."
   ]
  },
  {
   "cell_type": "code",
   "execution_count": 226,
   "metadata": {},
   "outputs": [
    {
     "name": "stdout",
     "output_type": "stream",
     "text": [
      "tensor([0.9028, 1.2270])\n",
      "tensor([6.0828e-03, 2.7026e+04])\n",
      "tensor([1., 1.])\n"
     ]
    }
   ],
   "source": [
    "def get_new_log_reserves(log_reserve_tensor, gamma, log_s):\n",
    "  log_r_alpha = log_reserve_tensor[...,0]\n",
    "  log_r_beta = log_reserve_tensor[...,1]\n",
    "  \n",
    "  log_m_u = log_r_beta - log_r_alpha\n",
    "\n",
    "  log_gamma = torch.log(gamma)\n",
    "    \n",
    "  log_c_l = log_gamma + log_s - log_m_u\n",
    "  log_c_h = log_s - log_gamma - log_m_u\n",
    "\n",
    "  # AMM price too low\n",
    "  log_r_alpha_updated = torch.where(log_m_u < log_gamma + log_s, log_r_alpha + log_c_l * (-1 * gamma / (gamma + 1)), log_r_alpha)\n",
    "  log_r_beta_updated = torch.where(log_m_u < log_gamma + log_s, log_r_beta + log_c_l * (1 / (gamma + 1)), log_r_beta)\n",
    "  \n",
    "  # AMM price too high\n",
    "  log_r_alpha_updated = torch.where(log_m_u > log_s - log_gamma, log_r_alpha + log_c_h * (-1 / (gamma + 1)), log_r_alpha_updated)\n",
    "  log_r_beta_updated = torch.where(log_m_u > log_s - log_gamma, log_r_beta + log_c_h * (gamma / (gamma + 1)), log_r_beta_updated)\n",
    "\n",
    "  return torch.stack((log_r_alpha_updated, log_r_beta_updated), dim = -1)\n",
    "\n",
    "print(torch.exp(get_new_log_reserves(torch.zeros(2), torch.tensor(0.5), torch.tensor(1.))))\n",
    "print(torch.exp(get_new_log_reserves(torch.zeros(2), torch.tensor(0.5), torch.tensor(16.))))\n",
    "print(torch.exp(get_new_log_reserves(torch.zeros(2), torch.tensor(0.5), torch.tensor(1./16))))"
   ]
  },
  {
   "cell_type": "code",
   "execution_count": 227,
   "metadata": {
    "colab": {
     "base_uri": "https://localhost:8080/",
     "height": 109
    },
    "id": "GmCfbGZIB8kJ",
    "outputId": "ebd88dea-1e43-4299-e94a-a57becc0c7db"
   },
   "outputs": [
    {
     "name": "stdout",
     "output_type": "stream",
     "text": [
      "1 2\n"
     ]
    },
    {
     "data": {
      "text/plain": [
       "tensor([[1.0000, 1.0000],\n",
       "        [1.0000, 1.0000],\n",
       "        [4.0000, 0.5000]])"
      ]
     },
     "execution_count": 227,
     "metadata": {},
     "output_type": "execute_result"
    }
   ],
   "source": [
    "def get_log_reserve_tensor(gamma, log_s, s_zero):\n",
    "  out_tensor = torch.zeros(list(log_s.shape) + [2])\n",
    "  out_tensor[...,1] = torch.log(s_zero)\n",
    "  for i in range(1, log_s.shape[1]):\n",
    "    if i % max(round(log_s.shape[1]/10),2) == 1:\n",
    "      print(i, log_s.shape[1])\n",
    "    out_tensor[:,i,:] = get_new_log_reserves(out_tensor[:,i-1,:], gamma, log_s[:,i])\n",
    "  return out_tensor\n",
    "\n",
    "s = torch.ones(3, 2)\n",
    "s[0,1] = 1\n",
    "s[1,1] = 16\n",
    "s[2,1] = 1 / 16\n",
    "\n",
    "torch.exp(get_log_reserve_tensor(torch.tensor([1, 0.01, 0.5]), torch.log(s), torch.tensor(1.)))[:,-1,:]\n"
   ]
  },
  {
   "cell_type": "code",
   "execution_count": 305,
   "metadata": {
    "colab": {
     "base_uri": "https://localhost:8080/",
     "height": 201
    },
    "id": "xdeLjq0sB-E6",
    "outputId": "38e77a09-79be-464c-b945-ad796e58b993"
   },
   "outputs": [
    {
     "name": "stdout",
     "output_type": "stream",
     "text": [
      "1 100000\n",
      "10001 100000\n",
      "20001 100000\n",
      "30001 100000\n",
      "40001 100000\n",
      "50001 100000\n",
      "60001 100000\n",
      "70001 100000\n",
      "80001 100000\n",
      "90001 100000\n"
     ]
    }
   ],
   "source": [
    "step_size = 0.001\n",
    "num_steps = 100000\n",
    "num_samples = 200\n",
    "z = get_z(num_samples, num_steps, step_size)\n",
    "log_s = get_log_s(z, torch.tensor(1.), 0, 1, step_size)\n",
    "log_reserves = get_log_reserve_tensor(torch.tensor(0.5), log_s, torch.tensor(1.))"
   ]
  },
  {
   "cell_type": "code",
   "execution_count": 315,
   "metadata": {},
   "outputs": [
    {
     "data": {
      "text/plain": [
       "<matplotlib.axes._subplots.AxesSubplot at 0x7effb7ad48d0>"
      ]
     },
     "execution_count": 315,
     "metadata": {},
     "output_type": "execute_result"
    },
    {
     "data": {
      "image/png": "[encoded data removed]",
      "text/plain": [
       "<Figure size 432x288 with 1 Axes>"
      ]
     },
     "metadata": {
      "needs_background": "light"
     },
     "output_type": "display_data"
    }
   ],
   "source": [
    "sbn.lineplot(x[:-1], torch.cumsum(torch.mean(torch.where(log_reserves[:,1:,0] != log_reserves[:,:-1,0], torch.tensor(1.), torch.tensor(0.)), 0),0))"
   ]
  },
  {
   "cell_type": "code",
   "execution_count": 307,
   "metadata": {},
   "outputs": [
    {
     "data": {
      "text/plain": [
       "<matplotlib.axes._subplots.AxesSubplot at 0x7effb7e10e50>"
      ]
     },
     "execution_count": 307,
     "metadata": {},
     "output_type": "execute_result"
    },
    {
     "data": {
      "image/png": "[encoded data removed]",
      "text/plain": [
       "<Figure size 432x288 with 1 Axes>"
      ]
     },
     "metadata": {
      "needs_background": "light"
     },
     "output_type": "display_data"
    }
   ],
   "source": [
    "x = get_t(num_steps, step_size)\n",
    "y = torch.mean(log_reserves[:,:,1], 0)/get_t(num_steps, step_size)\n",
    "sbn.lineplot(x[20000:],y[20000:])"
   ]
  },
  {
   "cell_type": "code",
   "execution_count": 266,
   "metadata": {},
   "outputs": [
    {
     "data": {
      "text/plain": [
       "<matplotlib.axes._subplots.AxesSubplot at 0x7effb88305d0>"
      ]
     },
     "execution_count": 266,
     "metadata": {},
     "output_type": "execute_result"
    },
    {
     "data": {
      "image/png": "[encoded data removed]",
      "text/plain": [
       "<Figure size 432x288 with 1 Axes>"
      ]
     },
     "metadata": {
      "needs_background": "light"
     },
     "output_type": "display_data"
    }
   ],
   "source": [
    "sbn.scatterplot(log_s[:,-1] + log_reserves[:,-1,0], log_reserves[:,-1,1])"
   ]
  },
  {
   "cell_type": "code",
   "execution_count": 78,
   "metadata": {},
   "outputs": [
    {
     "data": {
      "text/plain": [
       "<matplotlib.axes._subplots.AxesSubplot at 0x7effba3a8f50>"
      ]
     },
     "execution_count": 78,
     "metadata": {},
     "output_type": "execute_result"
    },
    {
     "data": {
      "image/png": "[encoded data removed]",
      "text/plain": [
       "<Figure size 432x288 with 1 Axes>"
      ]
     },
     "metadata": {
      "needs_background": "light"
     },
     "output_type": "display_data"
    }
   ],
   "source": [
    "\n",
    "mw = torch.mean(np.log(wealth), 0)\n",
    "sns.lineplot(get_t(num_steps, step_size)[1000:], (mw / get_t(num_steps, step_size))[1000:])"
   ]
  },
  {
   "cell_type": "code",
   "execution_count": 81,
   "metadata": {},
   "outputs": [
    {
     "data": {
      "text/plain": [
       "10000.0"
      ]
     },
     "execution_count": 81,
     "metadata": {},
     "output_type": "execute_result"
    }
   ],
   "source": [
    "num_steps * step_size"
   ]
  },
  {
   "cell_type": "code",
   "execution_count": 80,
   "metadata": {},
   "outputs": [
    {
     "data": {
      "text/plain": [
       "0.1"
      ]
     },
     "execution_count": 80,
     "metadata": {},
     "output_type": "execute_result"
    }
   ],
   "source": []
  },
  {
   "cell_type": "code",
   "execution_count": null,
   "metadata": {},
   "outputs": [],
   "source": []
  }
 ],
 "metadata": {
  "colab": {
   "name": "liquidity_provider_wealth.ipynb",
   "provenance": []
  },
  "kernelspec": {
   "display_name": "Python 3",
   "language": "python",
   "name": "python3"
  },
  "language_info": {
   "codemirror_mode": {
    "name": "ipython",
    "version": 3
   },
   "file_extension": ".py",
   "mimetype": "text/x-python",
   "name": "python",
   "nbconvert_exporter": "python",
   "pygments_lexer": "ipython3",
   "version": "3.7.4"
  }
 },
 "nbformat": 4,
 "nbformat_minor": 1
}

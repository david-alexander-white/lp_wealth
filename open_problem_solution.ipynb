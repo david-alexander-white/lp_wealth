{
 "cells": [
  {
   "cell_type": "code",
   "execution_count": 1,
   "metadata": {},
   "outputs": [],
   "source": [
    "import torch\n",
    "import numpy as np\n",
    "import scipy.stats"
   ]
  },
  {
   "cell_type": "markdown",
   "metadata": {},
   "source": [
    "# Solutions\n",
    "\n",
    "This notebook presents solutions for the problems in https://www.paradigm.xyz/open-problems/index.html in the zero-drift case.\n",
    "\n",
    "That is, given known $\\sigma$ and $\\gamma$, and setting $\\mu = \\frac{\\sigma^2}{2}$, we have:\n",
    "\n",
    "## 3.1 Growth Rate of LP Wealth\n",
    "\n",
    "$G = \\mathop{\\mathbb{E}}[\\displaystyle{\\lim_{T\\to\\inf}}\\frac{1}{T}\\log(W(T))] = \\frac{-\\sigma^2(1-\\gamma)}{(1+\\gamma)\\log{\\gamma}}\\frac{1+e}{e-1}C$\n",
    "\n",
    "Where $C\\approx0.11$ is $G$ in the case where $\\sigma=1, \\gamma=e^{-1}$\n",
    "\n",
    " <a href='#3_1'>proof</a>\n",
    "\n",
    "## 3.2  Optimal Fee\n",
    "\n",
    "Accordingly, there is no optimal fee. $G$ increases asysmptotically as fees are reduced and smaller and smaller variations in price are captured:\n",
    "\n",
    "$\\displaystyle{\\lim_{\\gamma\\to 1^-}} G = \\frac{\\sigma^2}{2}\\frac{1+e}{e-1}C$\n",
    "\n",
    "<a href='#3_2'>proof</a>\n",
    "\n",
    "\n",
    "## 3.3  Excess Return\n",
    "\n",
    "In the zero drift case, all $\\sigma$ and $\\gamma$ provide excess returns, as the expression in 3.1 cannot be negative."
   ]
  },
  {
   "cell_type": "markdown",
   "metadata": {},
   "source": [
    "# Methodology\n",
    "\n",
    "One of the nice things about this setting is that we can simulate it almost perfectly.\n",
    "\n",
    "First, trades in the same direction are path independent. Second, there is a buffer around the AMM price where changes in the market price won't trigger any trades. That means that if we pick a small enough time step, the probability of two path-dependent (i.e. opposite-sided) trades occuring is nearly zero.\n",
    "\n",
    "I took advantage of this fact to build a simulation of the system in pytorch to help build my understanding and verify solutions.\n",
    "\n",
    "All code is available at https://github.com/david-alexander-white/lp_wealth"
   ]
  },
  {
   "cell_type": "markdown",
   "metadata": {},
   "source": [
    "## Time Step\n",
    "\n",
    "Each of our time steps is going to have\n",
    "\n",
    "std. dev = $\\sigma * \\sqrt{\\Delta_t}$\n",
    "\n",
    "in log space, so as long as we make sure\n",
    "\n",
    "$2 * \\lvert \\log{\\gamma} \\rvert > 4 \\sigma * \\sqrt{\\Delta_t} \\iff \\Delta_t < \\frac{(\\log{\\gamma})^2}{4\\sigma^2}$\n",
    "\n",
    "then going from a trade to the upside to a trade to the downside will be a 4-sigma event.\n",
    "\n",
    "However, we still see a difference in sim results below what should be a small enough time step"
   ]
  },
  {
   "cell_type": "code",
   "execution_count": 2,
   "metadata": {},
   "outputs": [],
   "source": [
    "import lp_wealth\n",
    "from sim_helpers import *\n",
    "from notebook_helpers import *"
   ]
  },
  {
   "cell_type": "code",
   "execution_count": 3,
   "metadata": {},
   "outputs": [
    {
     "name": "stdout",
     "output_type": "stream",
     "text": [
      "1 0.0037908554077148438\n",
      "101 0.29054832458496094\n",
      "201 0.2637481689453125\n",
      "301 0.3155655860900879\n",
      "401 0.2569458484649658\n",
      "501 0.3365974426269531\n",
      "601 0.27591562271118164\n",
      "701 0.3135659694671631\n",
      "801 0.3090829849243164\n",
      "901 0.3388392925262451\n"
     ]
    },
    {
     "data": {
      "text/plain": [
       "<matplotlib.lines.Line2D at 0x7f4906aa11d0>"
      ]
     },
     "execution_count": 3,
     "metadata": {},
     "output_type": "execute_result"
    },
    {
     "data": {
      "image/png": "[encoded data removed]",
      "text/plain": [
       "<Figure size 432x288 with 1 Axes>"
      ]
     },
     "metadata": {
      "needs_background": "light"
     },
     "output_type": "display_data"
    }
   ],
   "source": [
    "num_samples = 100000\n",
    "\n",
    "sigma = torch.tensor(0.5)\n",
    "mu = sigma **2 / 2\n",
    "gamma = torch.tensor(0.5)\n",
    "\n",
    "max_time_step = get_max_time_step(gamma, sigma)\n",
    "\n",
    "\n",
    "log10_max_time_step = np.log10(max_time_step)\n",
    "# Choose a ton of time steps ranging from 100x below our max to 100x above\n",
    "time_step_size = torch.tensor(np.logspace(log10_max_time_step -2, log10_max_time_step +2, num_samples), dtype=sigma.dtype) \n",
    "\n",
    "sim = lp_wealth.Sim(mu, sigma, gamma, time_step_size, num_samples)\n",
    "\n",
    "num_steps = 1000\n",
    "\n",
    "sim_loop(sim, num_steps, bb_adjustment_type=\"none\")\n",
    "\n",
    "bins = np.logspace(log10_max_time_step -2, log10_max_time_step +2, 100) \n",
    "\n",
    "ax = bin_plot(torch.log(time_step_size).numpy(), sim.compute_wealth_growth_rate())\n",
    "\n",
    "ax.set(xlabel='log10 time step', ylabel='G')\n",
    "plt.axvline(log10_max_time_step)"
   ]
  },
  {
   "cell_type": "markdown",
   "metadata": {},
   "source": [
    "## This problem can be fixed with a sampling adjustment\n",
    "\n",
    "The problem is that we care about the most extreme values attained by the market price, which may occur in between our sampling steps. For example, if the price was 10 at the last step and 11 now, it may have been 12 in between.\n",
    "\n",
    "Happily, the distribution of this maximum is known -- see https://www.researchgate.net/publication/236984395_On_the_maximum_of_the_generalized_Brownian_bridge eq. (2.7)\n",
    "\n",
    "We can sample from this distribution to find the trades that went off between sample times."
   ]
  },
  {
   "cell_type": "code",
   "execution_count": 4,
   "metadata": {},
   "outputs": [
    {
     "name": "stdout",
     "output_type": "stream",
     "text": [
      "1 0.03385496139526367\n",
      "101 0.5417227745056152\n",
      "201 0.4969625473022461\n",
      "301 0.4725780487060547\n",
      "401 0.32900118827819824\n",
      "501 0.32982325553894043\n",
      "601 0.32597780227661133\n",
      "701 0.32959723472595215\n",
      "801 0.31613850593566895\n",
      "901 0.43176984786987305\n"
     ]
    },
    {
     "data": {
      "text/plain": [
       "<matplotlib.lines.Line2D at 0x7f497ea34ad0>"
      ]
     },
     "execution_count": 4,
     "metadata": {},
     "output_type": "execute_result"
    },
    {
     "data": {
      "image/png": "[encoded data removed]",
      "text/plain": [
       "<Figure size 432x288 with 1 Axes>"
      ]
     },
     "metadata": {
      "needs_background": "light"
     },
     "output_type": "display_data"
    }
   ],
   "source": [
    "log10_max_time_step = np.log10(max_time_step)\n",
    "# Choose a ton of time steps ranging from 100x below our max to 100x above\n",
    "time_step_size = torch.tensor(np.logspace(log10_max_time_step -2, log10_max_time_step +2, num_samples), dtype=sigma.dtype) \n",
    "\n",
    "sim = lp_wealth.Sim(mu, sigma, gamma, time_step_size, num_samples)\n",
    "\n",
    "sim_loop(sim, num_steps, bb_adjustment_type=\"sample\")\n",
    "\n",
    "\n",
    "ax = bin_plot(torch.log(time_step_size), sim.compute_wealth_growth_rate())\n",
    "ax.set(xlabel='log10 time step', ylabel='G')\n",
    "plt.axvline(log10_max_time_step)"
   ]
  },
  {
   "cell_type": "markdown",
   "metadata": {},
   "source": [
    "<a id='3_1'></a>"
   ]
  },
  {
   "cell_type": "markdown",
   "metadata": {},
   "source": [
    "# Proof of 3.1\n",
    "\n",
    "Let wealth grown rate given $\\mu, \\sigma, \\gamma = G(\\mu,\\sigma\\gamma)$\n",
    "\n",
    "### 1.) $\\forall k \\in \\mathbb{R}^+, G(k^2\\mu, k\\sigma, \\gamma) = k^2 G(\\mu, \\sigma, \\gamma) $\n",
    "\n",
    "The intuition here is that multiplying $\\sigma$ by a constant $k$ has the same effect as speeding up the passage of time by $k^2$. If we adjust drift accordingly, that means growth rate will be $k^2$ higher."
   ]
  },
  {
   "cell_type": "code",
   "execution_count": 5,
   "metadata": {},
   "outputs": [
    {
     "name": "stdout",
     "output_type": "stream",
     "text": [
      "1 0.0033926963806152344\n",
      "161 0.6390364170074463\n",
      "321 0.6425950527191162\n",
      "481 0.6730146408081055\n",
      "641 0.5053060054779053\n",
      "801 0.5625684261322021\n",
      "961 0.5051946640014648\n",
      "1121 0.6641440391540527\n",
      "1281 0.48938488960266113\n",
      "1441 0.4935646057128906\n"
     ]
    },
    {
     "data": {
      "text/plain": [
       "[Text(0, 0.5, 'G'), Text(0.5, 0, '$\\\\k^2$')]"
      ]
     },
     "execution_count": 5,
     "metadata": {},
     "output_type": "execute_result"
    },
    {
     "data": {
      "image/png": "[encoded data removed]",
      "text/plain": [
       "<Figure size 432x288 with 1 Axes>"
      ]
     },
     "metadata": {
      "needs_background": "light"
     },
     "output_type": "display_data"
    }
   ],
   "source": [
    "num_samples = 100000\n",
    "\n",
    "k = torch.arange(0., num_samples, 1) / num_samples * 10 + 0.1\n",
    "sigma = k\n",
    "init_mu = 3\n",
    "mu = init_mu * k**2\n",
    "gamma = torch.tensor(0.6)\n",
    "\n",
    "time_step = get_max_time_step(gamma, sigma)\n",
    "num_steps = get_min_time_steps(sigma, gamma, time_step)\n",
    "\n",
    "sim = lp_wealth.Sim(mu, sigma, gamma, time_step, num_samples)\n",
    "\n",
    "sim_loop(sim, num_steps)\n",
    "\n",
    "ax = bin_plot(k**2, sim.compute_wealth_growth_rate())\n",
    "\n",
    "ax.set(xlabel='$\\k^2$', ylabel='G')"
   ]
  },
  {
   "cell_type": "markdown",
   "metadata": {},
   "source": [
    "### 2.) $\\forall k \\in \\mathbb{R}^+, G(\\frac{k^2\\sigma^2}{2}, k\\sigma, \\gamma^k) = k\\frac{1-\\gamma^k}{1+\\gamma^k}\\frac{1 + \\gamma}{1-\\gamma} G(\\frac{\\sigma^2}{2}, \\sigma, \\gamma) $\n"
   ]
  },
  {
   "cell_type": "markdown",
   "metadata": {},
   "source": [
    "The key intuition here is that, when viewed in log space, the AMM price $m_u$ is always inside a band of width $-2\\log{\\gamma}$ around the market price $m_p$, and trades occur at the boundary.\n",
    "\n",
    "In the zero-drift case, by scaling both $\\sigma$ and $\\gamma$, we can scale both $m_p$ and the band, leading to a zoomed out view of the exact same behavior."
   ]
  },
  {
   "cell_type": "markdown",
   "metadata": {},
   "source": [
    "## Lemma \n",
    "\n",
    "Since\n",
    "\n",
    "$\\log{W(t)} = \\log{R_\\alpha m_p + R_\\beta} = \\log{R_\\beta} + \\log{(1 + \\frac{R_\\alpha m_p}{R_\\beta})} = \\log{R_\\beta} + \\log{(1 + \\frac{m_p}{m_u})}$\n",
    "\n",
    "Then we have\n",
    "\n",
    "$G = \\mathop{\\mathbb{E}}[\\displaystyle{\\lim_{T\\to\\inf}}\\frac{1}{T}\\log(W(T))] = \\mathop{\\mathbb{E}}[\\displaystyle{\\lim_{T\\to\\inf}}\\frac{1}{T}\\log(R_\\alpha m_p + R_\\beta)] =  \\mathop{\\mathbb{E}}[\\displaystyle{\\lim_{T\\to\\inf}}\\frac{1}{T}(\\log{R_\\beta})] $\n",
    "\n",
    "since $\\gamma \\leq \\frac{m_p}{m_u} \\leq \\frac{1}{\\gamma}$ so $\\log{(1 + \\frac{m_p}{m_u})}$ has a finite bound and will get averaged out. \n",
    "\n",
    "Now, when $\\mu = \\frac{\\sigma^2}{2}$, there's no drift in $\\log{m_p}$, so by symmetry\n",
    "\n",
    "$\\mathop{\\mathbb{E}}[\\displaystyle{\\lim_{T\\to\\inf}}\\frac{1}{T}(\\log{R_\\beta})] = \\mathop{\\mathbb{E}}[\\displaystyle{\\lim_{T\\to\\inf}}\\frac{1}{T}(\\log{R_\\alpha})]$\n",
    "\n",
    "and we have $G = \\mathop{\\mathbb{E}}[\\displaystyle{\\lim_{T\\to\\inf}}\\frac{1}{2T}(\\log{R_\\alpha} + \\log{R_\\beta})]$"
   ]
  },
  {
   "cell_type": "markdown",
   "metadata": {},
   "source": [
    "## Main argument\n",
    "\n",
    "Consider a single realization of our system of random variables -- i.e. one path in the geometric Brownian motion, and all the associated variables, which will change deterministically based on it.\n",
    "\n",
    "We are going to compare what happens in this realization to what happens in the scaled realization.\n",
    "\n",
    "We'll abuse notation a little bit and denote variables in the scaled realization with a prime mark ($'$). So $m_p' = k m_p$ (since we're in the 0 drift setting), $m_u'=km_u$, $\\gamma' = \\gamma^k$, etc.\n",
    "\n",
    "WLOG, consider what happens when $\\gamma m_p > m_u$ -- i.e. the market price has drifted above the AMM price by more than our fee.\n",
    "\n",
    "An arb will go off, after which we will have $R_\\alpha(t+\\delta t) = R_\\alpha(t)C_l^{-\\frac{\\gamma}{\\gamma+1}}$\n",
    "\n",
    "so\n",
    "\n",
    "$\\log{R_\\alpha(t+\\delta t)} = \\log{R_\\alpha(t)} -\\frac{\\gamma}{\\gamma+1}\\log{C_l}$\n",
    "\n",
    "similarly,\n",
    "\n",
    "$\\log{R_\\beta(t+\\delta t)} = \\log{R_\\beta(t)} +\\frac{1}{\\gamma+1}\\log{C_l}$\n",
    "\n",
    "so\n",
    "\n",
    "$\\Delta_l = \\log{R_\\alpha(t+\\delta t)} + \\log{R_\\beta(t+\\delta t)} - (\\log{R_\\alpha(t)} + \\log{R_\\beta(t)})=  \\frac{1-\\gamma}{\\gamma+1}\\log{C_l}$\n",
    "\n",
    "\n",
    "Now, $C_l = \\gamma\\frac{m_p}{m_u} \\iff \\log{C_l} = \\log{\\gamma} + \\log{m_p} - \\log{m_u}$.\n",
    "\n",
    "Each term in the RHS gets scaled by $k$ in the scaled realization, so we have $\\log{C_l'} = k\\log{C_l}$.\n",
    "\n",
    "So then we obtain \n",
    "\n",
    "$\\Delta'_l = \\log{R'_\\alpha(t+\\delta t)} + \\log{R'_\\beta(t+\\delta t)} - (\\log{R'_\\alpha(t)} + \\log{R'_\\beta(t)})=  \\frac{1-\\gamma'}{\\gamma'+1}\\log{C'_l} = \\frac{1-\\gamma'}{\\gamma'+1}\\log{C'_l} = k\\frac{1-\\gamma^k}{1+\\gamma^k}\\log{C_l}$\n",
    "\n",
    "And, dividing through, $\\frac{\\Delta'_l}{\\Delta_l} = k\\frac{1-\\gamma^k}{1+\\gamma^k}\\frac{1+\\gamma}{1-\\gamma}$\n",
    "\n",
    "Integrating, we obtain \n",
    "\n",
    "$\\log{R'_\\alpha} + \\log{R'_\\beta} = k\\frac{1-\\gamma^k}{1+\\gamma^k}\\frac{1+\\gamma}{1-\\gamma}( \\log{R_\\alpha} + \\log{R_\\beta})$\n",
    "\n",
    "\n",
    "Since this is true for all paths, when we combine this with the lemma, we see that in fact $G(\\frac{k^2\\sigma^2}{2}, k\\sigma, \\gamma^k) = k\\frac{1-\\gamma^k}{1+\\gamma^k}\\frac{1 + \\gamma}{1-\\gamma} G(\\frac{\\sigma^2}{2}, \\sigma, \\gamma)$\n",
    "\n"
   ]
  },
  {
   "cell_type": "code",
   "execution_count": 6,
   "metadata": {},
   "outputs": [
    {
     "name": "stdout",
     "output_type": "stream",
     "text": [
      "1 0.013389825820922852\n",
      "161 0.9214074611663818\n",
      "321 0.7870907783508301\n",
      "481 0.8261415958404541\n",
      "641 0.641442060470581\n",
      "801 0.574223518371582\n",
      "961 0.6920349597930908\n",
      "1121 0.5860159397125244\n",
      "1281 0.5898642539978027\n",
      "1441 0.594059944152832\n"
     ]
    },
    {
     "data": {
      "text/plain": [
       "[Text(0, 0.5, 'G'), Text(0.5, 0, '$pred$')]"
      ]
     },
     "execution_count": 6,
     "metadata": {},
     "output_type": "execute_result"
    },
    {
     "data": {
      "image/png": "[encoded data removed]",
      "text/plain": [
       "<Figure size 432x288 with 1 Axes>"
      ]
     },
     "metadata": {
      "needs_background": "light"
     },
     "output_type": "display_data"
    }
   ],
   "source": [
    "num_samples = 100000\n",
    "\n",
    "k = torch.arange(0., num_samples, 1) / num_samples * 10 + 0.01\n",
    "init_sigma = 0.1\n",
    "sigma = init_sigma * k\n",
    "mu = sigma**2 / 2\n",
    "init_gamma = torch.tensor(0.5)\n",
    "gamma = init_gamma ** k\n",
    "\n",
    "time_step = get_max_time_step(gamma, sigma)\n",
    "num_steps = get_min_time_steps(sigma, gamma, time_step)\n",
    "\n",
    "sim = lp_wealth.Sim(mu, sigma, gamma, time_step, num_samples)\n",
    "\n",
    "sim_loop(sim, num_steps)\n",
    "\n",
    "pred = (k * (1+init_gamma)/(1-init_gamma)*(1-gamma)/(1+gamma)).numpy()\n",
    "\n",
    "ax = bin_plot(pred, sim.compute_wealth_growth_rate())\n",
    "ax.set(xlabel='$pred$', ylabel='G')"
   ]
  },
  {
   "cell_type": "markdown",
   "metadata": {},
   "source": [
    "### 3.) $\\forall k \\in \\mathbb{R}^+, G(\\frac{\\sigma^2}{2}, \\sigma, \\gamma^k) = \\frac{1}{k}\\frac{1+\\gamma}{1-\\gamma}\\frac{1-\\gamma^k}{1+\\gamma^k} G(\\frac{\\sigma^2}{2}, \\sigma, \\gamma)$\n",
    "\n",
    "Obtained simply by combining (1) and (2).\n"
   ]
  },
  {
   "cell_type": "code",
   "execution_count": 7,
   "metadata": {},
   "outputs": [
    {
     "name": "stdout",
     "output_type": "stream",
     "text": [
      "1 0.00630640983581543\n",
      "161 0.5325839519500732\n",
      "321 0.513129472732544\n",
      "481 0.5410428047180176\n",
      "641 0.5241124629974365\n",
      "801 0.546250581741333\n",
      "961 0.527306079864502\n",
      "1121 0.5293521881103516\n",
      "1281 0.5399024486541748\n",
      "1441 0.5529346466064453\n"
     ]
    },
    {
     "data": {
      "text/plain": [
       "[Text(17.200000000000003, 0.5, 'G'), Text(0.5, 21.200000000000003, '$pred$')]"
      ]
     },
     "execution_count": 7,
     "metadata": {},
     "output_type": "execute_result"
    },
    {
     "data": {
      "image/png": "[encoded data removed]",
      "text/plain": [
       "<Figure size 432x288 with 1 Axes>"
      ]
     },
     "metadata": {
      "needs_background": "light"
     },
     "output_type": "display_data"
    }
   ],
   "source": [
    "num_samples = 100000\n",
    "\n",
    "k = torch.arange(0., num_samples, 1) / num_samples * 10  + 0.01\n",
    "sigma = torch.tensor(1.)\n",
    "mu = sigma**2 / 2\n",
    "init_gamma = torch.tensor(0.5)\n",
    "gamma = init_gamma ** k\n",
    "\n",
    "time_step = get_max_time_step(gamma, sigma)\n",
    "num_steps = get_min_time_steps(sigma, gamma, time_step)\n",
    "\n",
    "sim = lp_wealth.Sim(mu, sigma, gamma, time_step, num_samples)\n",
    "\n",
    "sim_loop(sim, num_steps)\n",
    "\n",
    "pred = (1/k * (1+init_gamma)/(1-init_gamma)*(1-init_gamma**(k))/(1+init_gamma**k)).numpy()\n",
    "\n",
    "bin_plot(pred, sim.compute_wealth_growth_rate())\n",
    "\n",
    "ax.set(xlabel='$pred$', ylabel='G')"
   ]
  },
  {
   "cell_type": "markdown",
   "metadata": {},
   "source": [
    "<a id='3_2'></a>"
   ]
  },
  {
   "cell_type": "markdown",
   "metadata": {},
   "source": [
    "# Optimal Fee\n",
    "\n",
    "There is no optimal $\\gamma$ in the no-drift case. LPs make more and more money as $\\gamma$ is brought closer to 1, although profits approach an asymptote:\n",
    "\n",
    "\n",
    "$\\displaystyle{\\lim_{k\\to 0^+}} G(\\frac{\\sigma^2}{2}, \\sigma, \\gamma^k)= \\displaystyle{\\lim_{k\\to 0}} \\frac{1}{k}\\frac{1+\\gamma}{1-\\gamma}\\frac{1-\\gamma^k}{1+\\gamma^k} G(\\frac{\\sigma^2}{2}, \\sigma, \\gamma) = -\\frac{(1+\\gamma)\\log{\\gamma}}{2(1-\\gamma)} G(\\frac{\\sigma^2}{2}, \\sigma, \\gamma)$"
   ]
  },
  {
   "cell_type": "code",
   "execution_count": 8,
   "metadata": {},
   "outputs": [
    {
     "data": {
      "text/plain": [
       "<matplotlib.lines.Line2D at 0x7f48fc82ad50>"
      ]
     },
     "execution_count": 8,
     "metadata": {},
     "output_type": "execute_result"
    },
    {
     "data": {
      "image/png": "[encoded data removed]",
      "text/plain": [
       "<Figure size 432x288 with 1 Axes>"
      ]
     },
     "metadata": {
      "needs_background": "light"
     },
     "output_type": "display_data"
    }
   ],
   "source": [
    "k = np.arange(1, 100)/100 + 0.001\n",
    "gamma = .5\n",
    "ans = 1 / k * (1+gamma) / (1-gamma)*(1-gamma**k)/(1+gamma**k)\n",
    "sbn.scatterplot(k, ans)\n",
    "plt.axhline(-np.log(gamma)/2*(1+gamma)/(1-gamma))"
   ]
  }
 ],
 "metadata": {
  "kernelspec": {
   "display_name": "Python 3",
   "language": "python",
   "name": "python3"
  },
  "language_info": {
   "codemirror_mode": {
    "name": "ipython",
    "version": 3
   },
   "file_extension": ".py",
   "mimetype": "text/x-python",
   "name": "python",
   "nbconvert_exporter": "python",
   "pygments_lexer": "ipython3",
   "version": "3.7.4"
  }
 },
 "nbformat": 4,
 "nbformat_minor": 2
}

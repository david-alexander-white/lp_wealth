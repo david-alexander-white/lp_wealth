{
 "cells": [
  {
   "cell_type": "code",
   "execution_count": 1,
   "metadata": {},
   "outputs": [],
   "source": [
    "import torch\n",
    "import time\n",
    "import numpy as np\n",
    "import scipy.stats\n",
    "import matplotlib.pyplot as plt\n",
    "import seaborn as sbn"
   ]
  },
  {
   "cell_type": "code",
   "execution_count": 2,
   "metadata": {},
   "outputs": [],
   "source": [
    "import lp_wealth\n",
    "from sim_helpers import *"
   ]
  },
  {
   "cell_type": "markdown",
   "metadata": {},
   "source": [
    "# Time Step\n",
    "\n",
    "Each of our time steps is going to have\n",
    "\n",
    "std. dev = $\\sigma * \\sqrt{\\Delta_t}$\n",
    "\n",
    "so as long as we make sure\n",
    "\n",
    "$2 * \\lvert \\log{\\gamma} \\rvert > 4 \\sigma * \\sqrt{\\Delta_t} \\iff \\Delta_t < \\frac{(\\log{\\gamma})^2}{4\\sigma^2}$\n",
    "\n",
    "then going from a trade to the upside to a trade to the downside will be a 4-sigma event. "
   ]
  },
  {
   "cell_type": "markdown",
   "metadata": {},
   "source": [
    "## However, we still see a difference in sim results below what should be the max timestep"
   ]
  },
  {
   "cell_type": "code",
   "execution_count": 27,
   "metadata": {},
   "outputs": [
    {
     "name": "stdout",
     "output_type": "stream",
     "text": [
      "1 0.0007710456848144531\n",
      "101 0.17135858535766602\n",
      "201 0.2153468132019043\n",
      "301 0.2068343162536621\n",
      "401 0.20606684684753418\n",
      "501 0.20615768432617188\n",
      "601 0.20632624626159668\n",
      "701 0.20572996139526367\n",
      "801 0.20568156242370605\n",
      "901 0.20423316955566406\n"
     ]
    },
    {
     "data": {
      "text/plain": [
       "<matplotlib.lines.Line2D at 0x7f744da98a50>"
      ]
     },
     "execution_count": 27,
     "metadata": {},
     "output_type": "execute_result"
    },
    {
     "data": {
      "image/png": "[encoded data removed]",
      "text/plain": [
       "<Figure size 432x288 with 1 Axes>"
      ]
     },
     "metadata": {
      "needs_background": "light"
     },
     "output_type": "display_data"
    }
   ],
   "source": [
    "num_samples = 1000000\n",
    "\n",
    "sigma = torch.tensor(0.5)\n",
    "mu = sigma **2 / 2\n",
    "gamma = torch.tensor(0.5)\n",
    "\n",
    "max_time_step = get_max_time_step(gamma, sigma)\n",
    "\n",
    "\n",
    "log10_max_time_step = np.log10(max_time_step)\n",
    "# Choose a ton of time steps ranging from 100x below our max to 100x above\n",
    "time_step_size = torch.tensor(np.logspace(log10_max_time_step -2, log10_max_time_step +2, num_samples), dtype=sigma.dtype) \n",
    "\n",
    "sim = lp_wealth.Sim(mu, sigma, gamma, time_step_size, num_samples, cuda=True)\n",
    "\n",
    "num_steps = 1000\n",
    "\n",
    "sim_loop(sim, num_steps, bb_adjustment_type=\"none\")\n",
    "\n",
    "bins = np.logspace(log10_max_time_step -2, log10_max_time_step +2, 100) \n",
    "\n",
    "s, edges, _ = scipy.stats.binned_statistic(np.array(time_step_size), sim.compute_wealth_growth_rate(), statistic = 'mean', bins=bins)\n",
    "ax = sbn.scatterplot(np.log10(edges[:-1]+np.diff(edges)/2), s)\n",
    "ax.set(xlabel='log10 time step', ylabel='G')\n",
    "plt.axvline(log10_max_time_step)"
   ]
  },
  {
   "cell_type": "markdown",
   "metadata": {},
   "source": [
    "## This problem can be fixed with a sampling adjustment\n",
    "\n",
    "The problem is that we're sampling our market price at a fixed time step.\n",
    "\n",
    "If the price was 10 at the last step and 11 now, it may have been 12 in between.\n",
    "\n",
    "Happily, the CDF of its distribution is known -- see https://www.researchgate.net/publication/236984395_On_the_maximum_of_the_generalized_Brownian_bridge eq. (2.7)\n",
    "\n",
    "Since we know trades in the same direction are path independent, and since our time step should rule out all trades in opposite directions, we can sample from this distribution to find the trades that went off between sample times."
   ]
  },
  {
   "cell_type": "code",
   "execution_count": 29,
   "metadata": {},
   "outputs": [
    {
     "name": "stdout",
     "output_type": "stream",
     "text": [
      "1 0.001844644546508789\n",
      "101 0.368762731552124\n",
      "201 0.3613128662109375\n",
      "301 0.3582456111907959\n",
      "401 0.36559462547302246\n",
      "501 0.37110424041748047\n",
      "601 0.37334609031677246\n",
      "701 0.37183046340942383\n",
      "801 0.3679845333099365\n",
      "901 0.3701932430267334\n"
     ]
    },
    {
     "data": {
      "text/plain": [
       "<matplotlib.lines.Line2D at 0x7f744d89cb50>"
      ]
     },
     "execution_count": 29,
     "metadata": {},
     "output_type": "execute_result"
    },
    {
     "data": {
      "image/png": "[encoded data removed]",
      "text/plain": [
       "<Figure size 432x288 with 1 Axes>"
      ]
     },
     "metadata": {
      "needs_background": "light"
     },
     "output_type": "display_data"
    }
   ],
   "source": [
    "log10_max_time_step = np.log10(max_time_step)\n",
    "# Choose a ton of time steps ranging from 100x below our max to 100x above\n",
    "time_step_size = torch.tensor(np.logspace(log10_max_time_step -2, log10_max_time_step +2, num_samples), dtype=sigma.dtype) \n",
    "\n",
    "sim = lp_wealth.Sim(mu, sigma, gamma, time_step_size, num_samples)\n",
    "\n",
    "sim_loop(sim, num_steps, bb_adjustment_type=\"sample\")\n",
    "\n",
    "bins = np.logspace(log10_max_time_step -2, log10_max_time_step +2, 100) \n",
    "\n",
    "s, edges, _ = scipy.stats.binned_statistic(np.array(time_step_size), sim.compute_wealth_growth_rate(), statistic = 'mean', bins=bins)\n",
    "ax = sbn.scatterplot(np.log10(edges[:-1]+np.diff(edges)/2), s)\n",
    "ax.set(xlabel='log10 time step', ylabel='G')\n",
    "plt.axvline(log10_max_time_step)"
   ]
  },
  {
   "cell_type": "markdown",
   "metadata": {},
   "source": [
    "# Wealth growth rate is eventually constant with time\n",
    "\n",
    "We're measuring $\\mathbb{E}[\\displaystyle{\\lim_{T\\to\\infty}}\\frac{1}{T}\\log(W(T))]$.\n",
    "\n",
    "Now, $\\log(W(T))$ is independent of $T$ (given $R_\\alpha$, $R_\\beta$, and $m_p$), and we initialize $W(T)$ to be $0$, so $\\frac{1}{T}\\log(W(T))$ is really just an average of random variables -- say, the $T$ intervals of size 1 between $0$ and $T$.\n",
    "\n",
    "That means changes in \\frac{1}{T}\\log(W(T)) over time are really just be due to random noise -- there should be no drift or trend over time.\n",
    "\n",
    "We can see that this is probably true in the graph above, since all sims with suitably small time step have the same wealth growth, despite the fact that the ones with smaller time steps have run for far less time.\n",
    "\n",
    "However, since we're running a simulation, if the elapsed time is very small, we may not draw any samples that trade.\n",
    "\n",
    "Now, a back and forth trade (i.e. of size $2\\log{\\gamma}$ in both directions) should happen ten times in our sample if\n",
    "\n",
    "$10*2\\lvert\\log{\\gamma}\\rvert < \\sigma\\sqrt{T} \\iff T >  400(\\frac{\\log{\\gamma}}{\\sigma})^2$"
   ]
  },
  {
   "cell_type": "code",
   "execution_count": 38,
   "metadata": {},
   "outputs": [
    {
     "name": "stdout",
     "output_type": "stream",
     "text": [
      "1 0.0013310909271240234\n",
      "481 0.5300936698913574\n",
      "961 0.5176355838775635\n",
      "1441 0.5234901905059814\n",
      "1921 0.5151846408843994\n",
      "2401 0.5156195163726807\n",
      "2881 0.5250592231750488\n",
      "3361 0.5274324417114258\n",
      "3841 0.5200717449188232\n",
      "4321 0.5153844356536865\n"
     ]
    },
    {
     "data": {
      "text/plain": [
       "<matplotlib.lines.Line2D at 0x7f744c5af5d0>"
      ]
     },
     "execution_count": 38,
     "metadata": {},
     "output_type": "execute_result"
    },
    {
     "data": {
      "image/png": "[encoded data removed]",
      "text/plain": [
       "<Figure size 432x288 with 1 Axes>"
      ]
     },
     "metadata": {
      "needs_background": "light"
     },
     "output_type": "display_data"
    }
   ],
   "source": [
    "sigma = torch.tensor(0.5)\n",
    "mu = sigma **2 / 2\n",
    "gamma = torch.tensor(0.5)\n",
    "\n",
    "num_samples=1000\n",
    "\n",
    "time_step = max_time_step \n",
    "min_time_steps = get_min_time_steps(sigma, gamma, time_step)\n",
    "\n",
    "sim = lp_wealth.Sim(mu, sigma, gamma, time_step, num_samples)\n",
    "\n",
    "prop = 1/3\n",
    "num_steps = int(1/prop) * min_time_steps\n",
    "\n",
    "checkpoints = sim_loop(sim, num_steps, bb_adjustment_type=\"sample\")\n",
    "\n",
    "means = [torch.mean(checkpoint) for checkpoint in checkpoints]\n",
    "ax = sbn.scatterplot(np.arange(len(checkpoints[1:]))/(len(checkpoints)-2)*100, means[1:])\n",
    "ax.set(xlabel='percentage of sim length', ylabel='G')\n",
    "plt.axvline(prop * 100)\n"
   ]
  },
  {
   "cell_type": "markdown",
   "metadata": {},
   "source": [
    "# Identities\n",
    "\n",
    "Let wealth grown rate given $\\mu, \\sigma, \\gamma = G(\\mu,\\sigma\\gamma)$\n",
    "\n",
    "### 1.) $\\forall k \\in \\mathbb{R}^+, G(k^2\\mu, k\\sigma, \\gamma) = k^2 G(\\mu, \\sigma, \\gamma) $\n",
    "\n",
    "Multiplying $\\sigma$ by a constant $k$ has the same effect as speeding up the passage of time by $k^2$. If we adjust drift accordingly, that means growth rate will be $k^2$ higher."
   ]
  },
  {
   "cell_type": "code",
   "execution_count": 123,
   "metadata": {},
   "outputs": [
    {
     "name": "stdout",
     "output_type": "stream",
     "text": [
      "1 0.0018503665924072266\n",
      "161 0.22032475471496582\n",
      "321 0.20042872428894043\n",
      "481 0.2012312412261963\n",
      "641 0.19587159156799316\n",
      "801 0.2020103931427002\n",
      "961 0.21250653266906738\n",
      "1121 0.20745420455932617\n",
      "1281 0.19554591178894043\n",
      "1441 0.19351482391357422\n"
     ]
    },
    {
     "data": {
      "text/plain": [
       "[Text(0, 0.5, 'G'), Text(0.5, 0, '$\\\\k^2$')]"
      ]
     },
     "execution_count": 123,
     "metadata": {},
     "output_type": "execute_result"
    },
    {
     "data": {
      "image/png": "[encoded data removed]",
      "text/plain": [
       "<Figure size 432x288 with 1 Axes>"
      ]
     },
     "metadata": {
      "needs_background": "light"
     },
     "output_type": "display_data"
    }
   ],
   "source": [
    "num_samples = 100000\n",
    "\n",
    "k = torch.arange(0., num_samples, 1) / num_samples * 10 + 0.1\n",
    "sigma = k\n",
    "init_mu = 3\n",
    "mu = init_mu * k**2\n",
    "gamma = torch.tensor(0.6)\n",
    "\n",
    "time_step = get_max_time_step(gamma, sigma)\n",
    "num_steps = get_min_time_steps(sigma, gamma, time_step)\n",
    "\n",
    "sim = lp_wealth.Sim(mu, sigma, gamma, time_step, num_samples, cuda=True)\n",
    "\n",
    "sim_loop(sim, num_steps)\n",
    "\n",
    "bins =  torch.arange(0., 100, 1) / 100 * 10 + 0.1\n",
    "\n",
    "s, edges, _ = scipy.stats.binned_statistic(np.array(k), sim.compute_wealth_growth_rate(), statistic = 'mean', bins=bins)\n",
    "ax = sbn.scatterplot((edges[:-1]+np.diff(edges)/2)**2, s)\n",
    "ax.set(xlabel='$\\k^2$', ylabel='G')"
   ]
  },
  {
   "cell_type": "markdown",
   "metadata": {},
   "source": [
    "### 2.) $\\forall k \\in \\mathbb{R}^+, G(\\frac{k^2\\sigma^2}{2}, k\\sigma, \\gamma^k) = k\\frac{1-\\gamma^k}{1+\\gamma^k} G(\\frac{\\sigma^2}{2}, \\sigma, \\gamma) $\n"
   ]
  },
  {
   "cell_type": "markdown",
   "metadata": {},
   "source": [
    "The key intuition here is that, when viewed in log space, trades occur when $m_p$ strays from $m_u$ by more than $-\\log{\\gamma}$, and then move $m_u$ to that boundary.\n",
    "\n",
    "So, if we scale $\\log{m_p}$ by $k$, and also scale $\\log{\\gamma}$ by $k$, we should see the exact same trading behavior, and $\\log{m_u}$ will end up scaled by $k$ as well.\n",
    "\n",
    "Since\n",
    "\n",
    "$\\log{W(t)} = \\log{R_\\alpha m_p + R_\\beta} = \\log{R_\\beta} + \\log{(1 + \\frac{R_\\alpha m_p}{R_\\beta})} = \\log{R_\\beta} + \\log{(1 + \\frac{m_p}{m_u})}$\n",
    "\n",
    "Then we have\n",
    "\n",
    "$G = \\mathop{\\mathbb{E}}[\\displaystyle{\\lim_{T\\to\\inf}}\\frac{1}{T}\\log(W(T))] = \\mathop{\\mathbb{E}}[\\displaystyle{\\lim_{T\\to\\inf}}\\frac{1}{T}\\log(R_\\alpha m_p + R_\\beta)] =  \\mathop{\\mathbb{E}}[\\displaystyle{\\lim_{T\\to\\inf}}\\frac{1}{T}(\\log{R_\\beta})] $\n",
    "\n",
    "since $\\gamma \\leq \\frac{m_p}{m_u} \\leq \\frac{1}{\\gamma}$ so $\\log{(1 + \\frac{m_p}{m_u})}$ has a finite bound. \n",
    "\n",
    "Now, when $\\mu = \\frac{\\sigma^2}{2}$, there's no drift in $\\log{m_p}$, so by symmetry\n",
    "\n",
    "$\\mathop{\\mathbb{E}}[\\displaystyle{\\lim_{T\\to\\inf}}\\frac{1}{T}(\\log{R_\\beta})] = \\mathop{\\mathbb{E}}[\\displaystyle{\\lim_{T\\to\\inf}}\\frac{1}{T}(\\log{R_\\beta})]$\n",
    "\n",
    "and we have $G = \\mathop{\\mathbb{E}}[\\displaystyle{\\lim_{T\\to\\inf}}\\frac{1}{2T}(\\log{R_\\alpha} + \\log{R_\\beta})]$\n",
    "\n",
    "We'll abuse notation a little bit and consider a single realization of $m_p$ and the associated parameters. Then we'll let $m_p' = k m_p$ (since we're in the 0 drift setting), $m_u'=km_u$, etc.\n",
    "\n",
    "Consider what happens when $\\gamma m_p > m_u$.\n",
    "\n",
    "An arb will go off, after which we will have $R_\\alpha(t+\\delta t) = R_\\alpha(t)C_l^{-\\frac{\\gamma}{\\gamma+1}}$\n",
    "\n",
    "so\n",
    "\n",
    "$\\log{R_\\alpha(t+\\delta t)} = \\log{R_\\alpha(t)} -\\frac{\\gamma}{\\gamma+1}\\log{C_l}$\n",
    "\n",
    "similarly,\n",
    "\n",
    "$\\log{R_\\beta(t+\\delta t)} = \\log{R_\\beta(t)} +\\frac{1}{\\gamma+1}\\log{C_l}$\n",
    "\n",
    "so\n",
    "\n",
    "$\\log{R_\\alpha(t+\\delta t)} + \\log{R_\\beta(t+\\delta t)} = \\log{R_\\alpha(t)} + \\log{R_\\beta(t)} + \\frac{1-\\gamma}{\\gamma+1}\\log{C_l}$\n",
    "\n",
    "Now, $C_l = \\gamma\\frac{m_p}{m_u} \\iff \\log{C_l} = \\log{\\gamma} + \\log{m_p} - \\log{m_u}$, so we have $\\log{C_l'} = k\\log{C_l}$.\n",
    "\n",
    "That means\n",
    "\n",
    "$\\log{R'_\\alpha(t+\\delta t)} + \\log{R'_\\beta(t+\\delta t)} = \\log{R'_\\alpha(t)} + \\log{R'_\\beta(t)} + \\frac{1-\\gamma^k}{\\gamma^k+1}\\log{C'_l} = \\log{R'_\\alpha(t)} + \\log{R'_\\beta(t)} + k\\frac{1-\\gamma^k}{\\gamma^k+1}\\log{C_l} $\n",
    "\n",
    "I.e. the change in $\\log{R'_\\alpha} + \\log{R'_\\beta}$ is $k\\frac{1-\\gamma^k}{\\gamma^k+1}$ times the change in $\\log{R_\\alpha} + \\log{R_\\beta}$, so integrating we obtain\n",
    "\n",
    "$\\log{R'_\\alpha} + \\log{R'_\\beta} = k\\frac{1-\\gamma^k}{1+\\gamma^k}( \\log{R_\\alpha} + \\log{R_\\beta})$\n",
    "\n",
    "\n",
    "So by the lemma... we're done.\n",
    "\n",
    "\n"
   ]
  },
  {
   "cell_type": "code",
   "execution_count": 137,
   "metadata": {},
   "outputs": [
    {
     "name": "stdout",
     "output_type": "stream",
     "text": [
      "1 0.0017542839050292969\n",
      "161 0.21632647514343262\n",
      "321 0.2043468952178955\n",
      "481 0.19591617584228516\n",
      "641 0.20609378814697266\n",
      "801 0.1887216567993164\n",
      "961 0.2012345790863037\n",
      "1121 0.19196176528930664\n",
      "1281 0.19603300094604492\n",
      "1441 0.18796229362487793\n"
     ]
    },
    {
     "data": {
      "text/plain": [
       "[Text(0, 0.5, 'G'), Text(0.5, 0, '$pred$')]"
      ]
     },
     "execution_count": 137,
     "metadata": {},
     "output_type": "execute_result"
    },
    {
     "data": {
      "image/png": "[encoded data removed]",
      "text/plain": [
       "<Figure size 432x288 with 1 Axes>"
      ]
     },
     "metadata": {
      "needs_background": "light"
     },
     "output_type": "display_data"
    }
   ],
   "source": [
    "num_samples = 100000\n",
    "\n",
    "k = torch.arange(0., num_samples, 1) / num_samples * 10 + 0.01\n",
    "init_sigma = 2.\n",
    "sigma = init_sigma * k\n",
    "mu = sigma**2 / 2\n",
    "init_gamma = torch.tensor(0.5)\n",
    "gamma = init_gamma ** k\n",
    "\n",
    "time_step = get_max_time_step(gamma, sigma)\n",
    "num_steps = get_min_time_steps(sigma, gamma, time_step)\n",
    "\n",
    "sim = lp_wealth.Sim(mu, sigma, gamma, time_step, num_samples, cuda=True)\n",
    "\n",
    "sim_loop(sim, num_steps)\n",
    "\n",
    "bins =  torch.arange(0., 100, 1) / 100 * 10 + 0.1\n",
    "\n",
    "s, edges, _ = scipy.stats.binned_statistic((k * (1-gamma)/(1+gamma)).numpy(), sim.compute_wealth_growth_rate(), statistic = 'mean', bins=bins)\n",
    "ax = sbn.scatterplot((edges[:-1]+np.diff(edges)/2), s)\n",
    "ax.set(xlabel='$pred$', ylabel='G')"
   ]
  },
  {
   "cell_type": "markdown",
   "metadata": {},
   "source": [
    "### 3.) $\\forall k \\in \\mathbb{R}^+, G(\\frac{\\sigma^2}{2}, \\sigma, \\gamma^k) = \\frac{1}{k}\\frac{1-\\gamma^k}{1+\\gamma^k} G(\\frac{\\sigma^2}{2}, \\sigma, \\gamma)$\n",
    "\n",
    "Obtained simply by combining (1) and (2).\n"
   ]
  },
  {
   "cell_type": "code",
   "execution_count": 171,
   "metadata": {},
   "outputs": [
    {
     "name": "stdout",
     "output_type": "stream",
     "text": [
      "1 0.0013785362243652344\n",
      "161 0.19577407836914062\n",
      "321 0.19625353813171387\n",
      "481 0.20558929443359375\n",
      "641 0.19508624076843262\n",
      "801 0.22958636283874512\n",
      "961 0.1982131004333496\n",
      "1121 0.19762611389160156\n",
      "1281 0.19677066802978516\n",
      "1441 0.20778107643127441\n"
     ]
    },
    {
     "data": {
      "text/plain": [
       "[Text(0, 0.5, 'G'), Text(0.5, 0, '$pred$')]"
      ]
     },
     "execution_count": 171,
     "metadata": {},
     "output_type": "execute_result"
    },
    {
     "data": {
      "image/png": "[encoded data removed]",
      "text/plain": [
       "<Figure size 432x288 with 1 Axes>"
      ]
     },
     "metadata": {
      "needs_background": "light"
     },
     "output_type": "display_data"
    }
   ],
   "source": [
    "num_samples = 100000\n",
    "\n",
    "k = torch.arange(0., num_samples, 1) / num_samples * 10 + 0.01\n",
    "sigma = torch.tensor(1.)\n",
    "mu = sigma**2 / 2\n",
    "init_gamma = torch.tensor(0.5)\n",
    "gamma = init_gamma ** k\n",
    "\n",
    "time_step = get_max_time_step(gamma, sigma)\n",
    "num_steps = get_min_time_steps(sigma, gamma, time_step)\n",
    "\n",
    "sim = lp_wealth.Sim(mu, sigma, gamma, time_step, num_samples, cuda=True)\n",
    "\n",
    "sim_loop(sim, num_steps)\n",
    "\n",
    "pred = (1/k * (1-gamma)/(1+gamma)).numpy()\n",
    "\n",
    "bins = np.array(np.percentile(pred, np.arange(1, 100, 10)))\n",
    "\n",
    "y = sim.compute_wealth_growth_rate().numpy()\n",
    "\n",
    "s, edges, _ = scipy.stats.binned_statistic(pred, y, statistic = 'mean', bins=bins)\n",
    "ax = sbn.scatterplot((edges[:-1]+np.diff(edges)/2), s)\n",
    "ax.set(xlabel='$pred$', ylabel='G')"
   ]
  },
  {
   "cell_type": "markdown",
   "metadata": {},
   "source": [
    "# Answer to Open Problem 3.2\n",
    "\n",
    "There is no optimal $\\gamma$ in the no-drift case. LPs make more and more money as $\\gamma$ is brought closer to 1, although profits approach an asymptote:\n",
    "\n",
    "\n",
    "$\\displaystyle{\\lim_{k\\to 0^+}} G(\\frac{\\sigma^2}{2}, \\sigma, \\gamma^k)= \\displaystyle{\\lim_{k\\to 0}} \\frac{1}{k}\\frac{1-\\gamma^k}{1+\\gamma^k} G(\\frac{\\sigma^2}{2}, \\sigma, \\gamma) = -\\frac{\\log{\\gamma}}{2} G(\\frac{\\sigma^2}{2}, \\sigma, \\gamma)$"
   ]
  },
  {
   "cell_type": "code",
   "execution_count": 191,
   "metadata": {},
   "outputs": [
    {
     "data": {
      "text/plain": [
       "<matplotlib.lines.Line2D at 0x7fd64b415550>"
      ]
     },
     "execution_count": 191,
     "metadata": {},
     "output_type": "execute_result"
    },
    {
     "data": {
      "image/png": "[encoded data removed]",
      "text/plain": [
       "<Figure size 432x288 with 1 Axes>"
      ]
     },
     "metadata": {
      "needs_background": "light"
     },
     "output_type": "display_data"
    }
   ],
   "source": [
    "k = np.arange(1, 100)/100 + 0.001\n",
    "gamma = .5\n",
    "ans = 1 / k *(1-gamma**k)/(1+gamma**k)\n",
    "sbn.scatterplot(k, ans)\n",
    "plt.axhline(-np.log(gamma)/2)"
   ]
  },
  {
   "cell_type": "markdown",
   "metadata": {},
   "source": [
    "### 4.) $G(\\mu, 0, \\gamma) =  \\begin{cases}\n",
    "    \\frac{\\mu}{\\gamma+1} & \\mu \\geq 0\\\\\n",
    "    \\frac{\\mu}{\\frac{1}{\\gamma}+1} & \\mu < 0\n",
    "  \\end{cases}\n",
    "$\n",
    "\n",
    "If $\\sigma = 0$, then we know $S(t) = e^{\\mu t}$.\n",
    "\n",
    "If $\\mu \\geq 0$, then $m_p$ is growing, so $m_u < m_p$, and in particular $\\frac{R_\\beta}{R_\\alpha} = m_u = \\gamma m_p = \\gamma e^{\\mu t} \\iff R_\\beta = R_\\alpha \\gamma e^{\\mu t}$\n",
    "\n",
    "WLOG, assuming we started with $R_\\alpha = R_\\beta = 1$, we know from path independence (since we've only ever traded in one direction) that $R_\\alpha R_\\beta^\\gamma = 1 \\iff R_\\alpha = R_\\beta^{-\\gamma}$\n",
    "\n",
    "Substituting this into the prior result, we end up with\n",
    "\n",
    "$R_\\beta = R_\\beta^{-\\gamma} \\gamma e^{\\mu t} \\iff R_\\beta = (\\gamma e^{\\mu t})^{\\frac{1}{1 + \\gamma}}$\n",
    "\n",
    "Then $W = e^{\\mu t}R_\\alpha + R_\\beta = \\frac{\\gamma +1}{\\gamma}R_\\beta = \\frac{\\gamma +1}{\\gamma}(\\gamma e^{\\mu t})^{\\frac{1}{1 + \\gamma}}$\n",
    "\n",
    "So $\\log W = \\log{\\frac{\\gamma +1}{\\gamma}} + \\log{(\\gamma e^{\\mu t})^{\\frac{1}{1 + \\gamma}}}\n",
    "= \\log{\\frac{\\gamma +1}{\\gamma}} + \\frac{1}{1 + \\gamma}(\\log{\\gamma} + \\mu t)$ \n",
    "\n",
    "and $G = \\mathop{\\mathbb{E}}[\\displaystyle{\\lim_{T\\to\\inf}}\\frac{1}{T}\\log(W(T))] = \\frac{\\mu}{\\gamma + 1}$\n",
    "\n",
    "By symmetry, this is $\\frac{\\mu}{\\frac{1}{\\gamma}+1}$ when $\\mu < 0$"
   ]
  },
  {
   "cell_type": "code",
   "execution_count": 149,
   "metadata": {},
   "outputs": [
    {
     "name": "stdout",
     "output_type": "stream",
     "text": [
      "1 0.0014078617095947266\n",
      "101 0.11504459381103516\n",
      "201 0.10959577560424805\n",
      "301 0.10847783088684082\n",
      "401 0.11012434959411621\n",
      "501 0.10814285278320312\n",
      "601 0.11053204536437988\n",
      "701 0.10871171951293945\n",
      "801 0.11139798164367676\n",
      "901 0.11851811408996582\n"
     ]
    },
    {
     "data": {
      "text/plain": [
       "[Text(0, 0.5, 'G'), Text(0.5, 0, 'pred')]"
      ]
     },
     "execution_count": 149,
     "metadata": {},
     "output_type": "execute_result"
    },
    {
     "data": {
      "image/png": "[encoded data removed]",
      "text/plain": [
       "<Figure size 432x288 with 1 Axes>"
      ]
     },
     "metadata": {
      "needs_background": "light"
     },
     "output_type": "display_data"
    }
   ],
   "source": [
    "num_samples = 1000\n",
    "\n",
    "sigma = torch.tensor(0.)\n",
    "mu = 40 * (torch.rand(num_samples) - .5)\n",
    "gamma = torch.rand(num_samples) * .9 + 0.05\n",
    "\n",
    "time_step = torch.tensor(0.1)\n",
    "num_steps = 1000\n",
    "\n",
    "sim = lp_wealth.Sim(mu, sigma, gamma, time_step, num_samples, cuda=True)\n",
    "\n",
    "sim_loop(sim, num_steps)\n",
    "\n",
    "pred = np.where(mu >0, mu / (gamma + 1), mu/(1/gamma +1))\n",
    "ax = sbn.scatterplot(pred, sim.compute_wealth_growth_rate())\n",
    "ax.set(xlabel='pred', ylabel='G')"
   ]
  }
 ],
 "metadata": {
  "kernelspec": {
   "display_name": "Python 3",
   "language": "python",
   "name": "python3"
  },
  "language_info": {
   "codemirror_mode": {
    "name": "ipython",
    "version": 3
   },
   "file_extension": ".py",
   "mimetype": "text/x-python",
   "name": "python",
   "nbconvert_exporter": "python",
   "pygments_lexer": "ipython3",
   "version": "3.7.4"
  }
 },
 "nbformat": 4,
 "nbformat_minor": 2
}

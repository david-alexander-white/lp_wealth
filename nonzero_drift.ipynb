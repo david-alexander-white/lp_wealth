{
 "cells": [
  {
   "cell_type": "markdown",
   "metadata": {},
   "source": [
    "# Nonzero Drift\n",
    "\n",
    "## With zero variance, $G \\propto \\mu$\n",
    "\n",
    "### 1.) $G_0(\\mu, \\gamma) = G(\\mu, 0, \\gamma) =  \\begin{cases}\n",
    "    \\frac{\\mu}{\\gamma+1} & \\mu \\geq 0\\\\\n",
    "    \\frac{\\mu}{\\frac{1}{\\gamma}+1} & \\mu < 0\n",
    "  \\end{cases}\n",
    "$\n",
    "\n",
    "If $\\sigma = 0$, then we know $S(t) = e^{\\mu t}$.\n",
    "\n",
    "If $\\mu \\geq 0$, then $m_p$ is growing, so $m_u < m_p$, and in particular $\\frac{R_\\beta}{R_\\alpha} = m_u = \\gamma m_p = \\gamma e^{\\mu t} \\iff R_\\beta = R_\\alpha \\gamma e^{\\mu t}$\n",
    "\n",
    "WLOG, assuming we started with $R_\\alpha = R_\\beta = 1$, we know from path independence (since we've only ever traded in one direction) that $R_\\alpha R_\\beta^\\gamma = 1 \\iff R_\\alpha = R_\\beta^{-\\gamma}$\n",
    "\n",
    "Substituting this into the prior result, we end up with\n",
    "\n",
    "$R_\\beta = R_\\beta^{-\\gamma} \\gamma e^{\\mu t} \\iff R_\\beta = (\\gamma e^{\\mu t})^{\\frac{1}{1 + \\gamma}}$\n",
    "\n",
    "Then $W = e^{\\mu t}R_\\alpha + R_\\beta = \\frac{\\gamma +1}{\\gamma}R_\\beta = \\frac{\\gamma +1}{\\gamma}(\\gamma e^{\\mu t})^{\\frac{1}{1 + \\gamma}}$\n",
    "\n",
    "So $\\log W = \\log{\\frac{\\gamma +1}{\\gamma}} + \\log{(\\gamma e^{\\mu t})^{\\frac{1}{1 + \\gamma}}}\n",
    "= \\log{\\frac{\\gamma +1}{\\gamma}} + \\frac{1}{1 + \\gamma}(\\log{\\gamma} + \\mu t)$ \n",
    "\n",
    "and $G = \\mathop{\\mathbb{E}}[\\displaystyle{\\lim_{T\\to\\inf}}\\frac{1}{T}\\log(W(T))] = \\frac{\\mu}{\\gamma + 1}$\n",
    "\n",
    "By symmetry, this is $\\frac{\\mu}{\\frac{1}{\\gamma}+1}$ when $\\mu < 0$"
   ]
  },
  {
   "cell_type": "code",
   "execution_count": 1,
   "metadata": {},
   "outputs": [],
   "source": [
    "import torch\n",
    "import numpy as np\n",
    "import scipy.stats\n",
    "import lp_wealth\n",
    "from sim_helpers import *\n",
    "from notebook_helpers import *"
   ]
  },
  {
   "cell_type": "code",
   "execution_count": 2,
   "metadata": {},
   "outputs": [
    {
     "name": "stdout",
     "output_type": "stream",
     "text": [
      "1 0.0020852088928222656\n",
      "101 0.12541866302490234\n",
      "201 0.1322007179260254\n",
      "301 0.12319326400756836\n",
      "401 0.11987066268920898\n",
      "501 0.1204831600189209\n",
      "601 0.12650299072265625\n",
      "701 0.12337231636047363\n",
      "801 0.12436413764953613\n",
      "901 0.12001609802246094\n"
     ]
    },
    {
     "data": {
      "text/plain": [
       "[Text(0, 0.5, 'G'), Text(0.5, 0, 'pred')]"
      ]
     },
     "execution_count": 2,
     "metadata": {},
     "output_type": "execute_result"
    },
    {
     "data": {
      "image/png": "[encoded data removed]",
      "text/plain": [
       "<Figure size 432x288 with 1 Axes>"
      ]
     },
     "metadata": {
      "needs_background": "light"
     },
     "output_type": "display_data"
    }
   ],
   "source": [
    "num_samples = 1000\n",
    "\n",
    "sigma = torch.tensor(0.)\n",
    "mu = 40 * (torch.rand(num_samples) - .5)\n",
    "gamma = torch.rand(num_samples) * .9 + 0.05\n",
    "\n",
    "time_step = torch.tensor(0.1)\n",
    "num_steps = 1000\n",
    "\n",
    "sim = lp_wealth.Sim(mu, sigma, gamma, time_step, num_samples, cuda=True)\n",
    "\n",
    "sim_loop(sim, num_steps)\n",
    "\n",
    "pred = np.where(mu >0, mu / (gamma + 1), mu/(1/gamma +1))\n",
    "ax = sbn.scatterplot(pred, sim.compute_wealth_growth_rate())\n",
    "ax.set(xlabel='pred', ylabel='G')"
   ]
  },
  {
   "cell_type": "markdown",
   "metadata": {},
   "source": [
    "## However, with nonzero variance, the relationship becomes nonlinear\n",
    "\n",
    "In particular, let $\\mu' = \\mu - \\frac{\\sigma^2}{2}$ be the true drift of $\\log m_p$.\n",
    "\n",
    "$G(\\mu, \\sigma, \\gamma) = G_0(\\mu', \\gamma) + D(\\mu', \\sigma, \\gamma)$\n",
    "\n",
    "where\n",
    "\n",
    "$D(0, \\sigma, \\gamma) = G(\\frac{\\sigma^2}{2}, \\sigma, \\gamma)$\n",
    "\n",
    "and\n",
    "\n",
    "$\\displaystyle{\\lim_{\\lvert \\mu' \\rvert \\to \\infty}}D(\\mu', \\sigma, \\gamma) = 0$"
   ]
  },
  {
   "cell_type": "code",
   "execution_count": 42,
   "metadata": {},
   "outputs": [
    {
     "name": "stdout",
     "output_type": "stream",
     "text": [
      "1 0.0014858245849609375\n",
      "1326 1.6205573081970215\n",
      "2651 1.6569414138793945\n",
      "3976 1.6343822479248047\n",
      "5301 1.611694574356079\n",
      "6626 1.5532433986663818\n",
      "7951 1.6328620910644531\n",
      "9276 1.5499682426452637\n",
      "10601 1.5492336750030518\n",
      "11926 1.5435352325439453\n",
      "13251 1.5471317768096924\n"
     ]
    },
    {
     "data": {
      "text/plain": [
       "[Text(0, 0.5, 'D'), Text(0.5, 0, \"$\\\\mu$'\")]"
      ]
     },
     "execution_count": 42,
     "metadata": {},
     "output_type": "execute_result"
    },
    {
     "data": {
      "image/png": "[encoded data removed]",
      "text/plain": [
       "<Figure size 432x288 with 1 Axes>"
      ]
     },
     "metadata": {
      "needs_background": "light"
     },
     "output_type": "display_data"
    }
   ],
   "source": [
    "num_samples = 10000\n",
    "\n",
    "sigma = torch.tensor(1.)\n",
    "mu = sigma**2 / 2 + (torch.rand(num_samples) - .5) * 2\n",
    "gamma = torch.tensor(0.1)\n",
    "\n",
    "time_step = get_max_time_step(gamma, sigma, mu)\n",
    "num_steps = get_min_time_steps(sigma, gamma, time_step)\n",
    "\n",
    "sim = lp_wealth.Sim(mu, sigma, gamma, time_step, num_samples, cuda=True)\n",
    "\n",
    "sim_loop(sim, num_steps)\n",
    "\n",
    "adj_mu = mu-sigma**2/2\n",
    "pred = np.where(adj_mu >0, adj_mu / (gamma + 1), adj_mu/(1/gamma +1))\n",
    "d = sim.compute_wealth_growth_rate()-pred\n",
    "ax = bin_plot(adj_mu, d)\n",
    "ax.set(xlabel=\"$\\mu$'\", ylabel='D')"
   ]
  },
  {
   "cell_type": "markdown",
   "metadata": {},
   "source": [
    "## D is symmetrical around 0\n",
    "\n",
    "It appears empirically that \n",
    "\n",
    "$D(\\mu', \\sigma, \\gamma) = D(-\\mu', \\sigma, \\gamma)$\n",
    "\n",
    "We can also see that there is less simulation variance when $\\mu' < 0$, presumably because a negative $\\mu'$ shrinks $m_p$ and thus leads to a smaller multiple in $m_p R_\\alpha + R_\\beta$"
   ]
  },
  {
   "cell_type": "code",
   "execution_count": 40,
   "metadata": {
    "scrolled": true
   },
   "outputs": [
    {
     "data": {
      "text/plain": [
       "[Text(0, 0.5, 'D'), Text(0.5, 0, \"|$\\\\mu$'|\")]"
      ]
     },
     "execution_count": 40,
     "metadata": {},
     "output_type": "execute_result"
    },
    {
     "data": {
      "image/png": "[encoded data removed]",
      "text/plain": [
       "<Figure size 432x288 with 1 Axes>"
      ]
     },
     "metadata": {
      "needs_background": "light"
     },
     "output_type": "display_data"
    }
   ],
   "source": [
    "pos = adj_mu > 0 \n",
    "ax = bin_plot(adj_mu[pos], d[pos])\n",
    "ax = bin_plot(np.abs(adj_mu[~pos]), d[~pos])\n",
    "ax.set(xlabel=\"|$\\mu$'|\", ylabel='D')"
   ]
  },
  {
   "cell_type": "markdown",
   "metadata": {},
   "source": [
    "## Why $\\displaystyle{\\lim_{\\lvert \\mu' \\rvert \\to \\infty}}D(\\mu', \\sigma, \\gamma) = 0$\n",
    "\n",
    "Now, why should we have $\\displaystyle{\\lim_{\\lvert \\mu' \\rvert \\to \\infty}}D(\\mu', \\sigma, \\gamma) = 0 \\iff \\displaystyle{\\lim_{\\lvert \\mu \\rvert \\to \\infty}} G(\\mu, \\sigma, \\gamma) = G_0(\\mu', \\gamma)$ ?\n",
    "\n",
    "Well, let's consider the case where we have $\\sigma = 1, \\mu = \\frac{1}{2}, \\gamma = e^{-.5} \\iff \\log{\\gamma} = -.5$.\n",
    "\n",
    "Let's consider the path for $m_p$ where $\\log{m_p}(t) = \\begin{cases}\n",
    "    -t & 0 \\leq t \\leq 1\\\\\n",
    "    t -2 & t > 1\n",
    "  \\end{cases}$ \n",
    "\n",
    "This path dips down to -1 at a constant rate, triggering a trade to the downside because $-1 < -.5$, before reversing course and trading to the upside.\n",
    "\n",
    "However, if we were to change $\\mu$ from $\\frac{1}{2}$ to $\\frac{3}{2}$, then this path would be transformed as follows:\n",
    "\n",
    "$\\log{m_p'}(t) = \\begin{cases}\n",
    "    0 & 0 \\leq t \\leq 1\\\\\n",
    "    2t-2 & t > 1\n",
    "  \\end{cases}$ \n",
    "  \n",
    "In this case, $\\log{m_p'}$ only ever increases, so that there are never any trades to the downside.\n",
    "\n",
    "Now, the wealth growth due to $\\sigma$ is entirely due to back-and-forth trades, and as we increase $\\mu$, more and more back-and-forth trades get canceled out by this type of effect.\n",
    "\n",
    "When we simulate dropping $\\mu$, we can indeed see that eventually $m_u$ is never too low -- i.e. there are never any trades to the upside.\n",
    "\n",
    "\n"
   ]
  },
  {
   "cell_type": "code",
   "execution_count": 201,
   "metadata": {},
   "outputs": [
    {
     "name": "stdout",
     "output_type": "stream",
     "text": [
      "1 0.00286865234375\n",
      "1326 1.663243293762207\n",
      "2651 1.658015489578247\n",
      "3976 1.6850826740264893\n",
      "5301 1.6090667247772217\n",
      "6626 1.6078076362609863\n",
      "7951 1.6533668041229248\n",
      "9276 1.6505324840545654\n",
      "10601 1.6352698802947998\n",
      "11926 1.601532220840454\n",
      "13251 1.6040387153625488\n"
     ]
    },
    {
     "data": {
      "text/plain": [
       "[Text(0, 0.5, 'too low updates'), Text(0.5, 0, \"$\\\\mu$'\")]"
      ]
     },
     "execution_count": 201,
     "metadata": {},
     "output_type": "execute_result"
    },
    {
     "data": {
      "image/png": "[encoded data removed]",
      "text/plain": [
       "<Figure size 432x288 with 1 Axes>"
      ]
     },
     "metadata": {
      "needs_background": "light"
     },
     "output_type": "display_data"
    }
   ],
   "source": [
    "num_samples = 10000\n",
    "\n",
    "sigma = torch.tensor(1.)\n",
    "mu = sigma**2 / 2 + (torch.rand(num_samples)) * - 1\n",
    "gamma = torch.tensor(0.1)\n",
    "\n",
    "time_step = get_max_time_step(gamma, sigma, mu)\n",
    "num_steps = get_min_time_steps(sigma, gamma, time_step)\n",
    "\n",
    "sim = lp_wealth.Sim(mu, sigma, gamma, time_step, num_samples, cuda=True)\n",
    "\n",
    "sim_loop(sim, num_steps)\n",
    "\n",
    "adj_mu = mu-sigma**2/2\n",
    "pred = np.where(adj_mu >0, adj_mu / (gamma + 1), adj_mu/(1/gamma +1))\n",
    "d = sim.compute_wealth_growth_rate()-pred\n",
    "ax = bin_plot(adj_mu, (torch.abs(sim.log_r_alpha_low_updates) + torch.abs(sim.log_r_beta_low_updates)).cpu()/sim.compute_elapsed_time())\n",
    "ax.set(xlabel=\"$\\mu$'\", ylabel='too low updates')"
   ]
  }
 ],
 "metadata": {
  "kernelspec": {
   "display_name": "Python 3",
   "language": "python",
   "name": "python3"
  },
  "language_info": {
   "codemirror_mode": {
    "name": "ipython",
    "version": 3
   },
   "file_extension": ".py",
   "mimetype": "text/x-python",
   "name": "python",
   "nbconvert_exporter": "python",
   "pygments_lexer": "ipython3",
   "version": "3.7.4"
  }
 },
 "nbformat": 4,
 "nbformat_minor": 2
}
